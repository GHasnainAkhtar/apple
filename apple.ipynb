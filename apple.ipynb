{
 "cells": [
  {
   "cell_type": "markdown",
   "metadata": {},
   "source": [
    "# **lets doing complete eda on apple dataset**\n"
   ]
  },
  {
   "cell_type": "markdown",
   "metadata": {},
   "source": [
    "## importing necessary libraries"
   ]
  },
  {
   "cell_type": "code",
   "execution_count": 37,
   "metadata": {},
   "outputs": [],
   "source": [
    "# import libraries\n",
    "import pandas as pd\n",
    "import numpy as np\n",
    "import matplotlib.pyplot as plt\n",
    "import seaborn as sns"
   ]
  },
  {
   "cell_type": "markdown",
   "metadata": {},
   "source": [
    "# 1) analyze,clean and sensing data"
   ]
  },
  {
   "cell_type": "code",
   "execution_count": 38,
   "metadata": {},
   "outputs": [],
   "source": [
    "\n",
    "df=pd.read_csv('apple.csv')"
   ]
  },
  {
   "cell_type": "code",
   "execution_count": 39,
   "metadata": {},
   "outputs": [
    {
     "data": {
      "text/html": [
       "<div>\n",
       "<style scoped>\n",
       "    .dataframe tbody tr th:only-of-type {\n",
       "        vertical-align: middle;\n",
       "    }\n",
       "\n",
       "    .dataframe tbody tr th {\n",
       "        vertical-align: top;\n",
       "    }\n",
       "\n",
       "    .dataframe thead th {\n",
       "        text-align: right;\n",
       "    }\n",
       "</style>\n",
       "<table border=\"1\" class=\"dataframe\">\n",
       "  <thead>\n",
       "    <tr style=\"text-align: right;\">\n",
       "      <th></th>\n",
       "      <th>Date</th>\n",
       "      <th>Close/Last</th>\n",
       "      <th>Volume</th>\n",
       "      <th>Open</th>\n",
       "      <th>High</th>\n",
       "      <th>Low</th>\n",
       "    </tr>\n",
       "  </thead>\n",
       "  <tbody>\n",
       "    <tr>\n",
       "      <th>0</th>\n",
       "      <td>12/08/2023</td>\n",
       "      <td>$195.71</td>\n",
       "      <td>53406360</td>\n",
       "      <td>$194.20</td>\n",
       "      <td>$195.99</td>\n",
       "      <td>$193.67</td>\n",
       "    </tr>\n",
       "    <tr>\n",
       "      <th>1</th>\n",
       "      <td>12/07/2023</td>\n",
       "      <td>$194.27</td>\n",
       "      <td>47477660</td>\n",
       "      <td>$193.63</td>\n",
       "      <td>$195.00</td>\n",
       "      <td>$193.59</td>\n",
       "    </tr>\n",
       "    <tr>\n",
       "      <th>2</th>\n",
       "      <td>12/06/2023</td>\n",
       "      <td>$192.32</td>\n",
       "      <td>41089740</td>\n",
       "      <td>$194.45</td>\n",
       "      <td>$194.76</td>\n",
       "      <td>$192.11</td>\n",
       "    </tr>\n",
       "    <tr>\n",
       "      <th>3</th>\n",
       "      <td>12/05/2023</td>\n",
       "      <td>$193.42</td>\n",
       "      <td>66628400</td>\n",
       "      <td>$190.21</td>\n",
       "      <td>$194.40</td>\n",
       "      <td>$190.18</td>\n",
       "    </tr>\n",
       "    <tr>\n",
       "      <th>4</th>\n",
       "      <td>12/04/2023</td>\n",
       "      <td>$189.43</td>\n",
       "      <td>43389520</td>\n",
       "      <td>$189.98</td>\n",
       "      <td>$190.05</td>\n",
       "      <td>$187.4511</td>\n",
       "    </tr>\n",
       "  </tbody>\n",
       "</table>\n",
       "</div>"
      ],
      "text/plain": [
       "         Date Close/Last    Volume     Open     High        Low\n",
       "0  12/08/2023    $195.71  53406360  $194.20  $195.99    $193.67\n",
       "1  12/07/2023    $194.27  47477660  $193.63  $195.00    $193.59\n",
       "2  12/06/2023    $192.32  41089740  $194.45  $194.76    $192.11\n",
       "3  12/05/2023    $193.42  66628400  $190.21  $194.40    $190.18\n",
       "4  12/04/2023    $189.43  43389520  $189.98  $190.05  $187.4511"
      ]
     },
     "execution_count": 39,
     "metadata": {},
     "output_type": "execute_result"
    }
   ],
   "source": [
    "df.head()"
   ]
  },
  {
   "cell_type": "code",
   "execution_count": 40,
   "metadata": {},
   "outputs": [
    {
     "data": {
      "text/plain": [
       "Date          0\n",
       "Close/Last    0\n",
       "Volume        0\n",
       "Open          0\n",
       "High          0\n",
       "Low           0\n",
       "dtype: int64"
      ]
     },
     "execution_count": 40,
     "metadata": {},
     "output_type": "execute_result"
    }
   ],
   "source": [
    "df.isnull().sum()"
   ]
  },
  {
   "cell_type": "code",
   "execution_count": 41,
   "metadata": {},
   "outputs": [
    {
     "data": {
      "text/plain": [
       "0"
      ]
     },
     "execution_count": 41,
     "metadata": {},
     "output_type": "execute_result"
    }
   ],
   "source": [
    "df.duplicated().sum()"
   ]
  },
  {
   "cell_type": "markdown",
   "metadata": {},
   "source": [
    "#### as we assume that data does not contain any null or missing values neither it contains any duplicated value so we do further data visualization"
   ]
  },
  {
   "cell_type": "markdown",
   "metadata": {},
   "source": [
    "# 2) Data Visualization"
   ]
  },
  {
   "cell_type": "code",
   "execution_count": 92,
   "metadata": {},
   "outputs": [
    {
     "data": {
      "image/png": "[encoded data removed]",
      "text/plain": [
       "<Figure size 200x500 with 2 Axes>"
      ]
     },
     "metadata": {},
     "output_type": "display_data"
    }
   ],
   "source": [
    "import matplotlib.pyplot as plt\n",
    "import numpy as np\n",
    "\n",
    "# Assuming you have the \"Open\" and \"Close\" values\n",
    "open_price = 194.45\n",
    "close_price = 192.32\n",
    "\n",
    "# Specify the target volume\n",
    "target_volume = 41089740\t\n",
    "\n",
    "# Define the values for x-axis labels\n",
    "x_labels = ['O=194.45', 'C=192.32']\n",
    "\n",
    "# Calculate the values for y-axis (volume and price)\n",
    "volume_values = [target_volume ]\n",
    "price_values = [open_price, close_price]\n",
    "\n",
    "# Plotting the data\n",
    "fig, ax1 = plt.subplots(figsize=(2,5))\n",
    "\n",
    "# Bar positions\n",
    "bar_positions = np.arange(len(x_labels))\n",
    "\n",
    "# Bar heights for volume\n",
    "bar_heights_volume = volume_values\n",
    "\n",
    "# Bar colors for volume\n",
    "bar_colors_volume = []\n",
    "\n",
    "# Bar width for volume\n",
    "bar_width = 0.9\n",
    "\n",
    "# Creating the bar plot for volume\n",
    "ax1.bar(bar_positions, bar_heights_volume, width=bar_width, tick_label=x_labels, color=bar_colors_volume)\n",
    "\n",
    "# Setting the y-axis label for volume\n",
    "ax1.set_ylabel('Volume=53406360')\n",
    "\n",
    "# Twinning the y-axis for price\n",
    "ax2 = ax1.twinx()\n",
    "\n",
    "# Bar heights for price\n",
    "bar_heights_price = price_values\n",
    "\n",
    "# Bar colors for price\n",
    "bar_colors_price = ['blue']\n",
    "\n",
    "# Creating the bar plot for price\n",
    "ax2.bar(bar_positions, bar_heights_price, width=bar_width, tick_label=x_labels, color=bar_colors_price)\n",
    "\n",
    "# Setting the y-axis label for price\n",
    "ax2.set_ylabel('Price')\n",
    "\n",
    "# Setting the title of the plot\n",
    "ax1.set_title(f'Volume and Price for Open and Close')\n",
    "\n",
    "# Displaying the plot\n",
    "plt.show()"
   ]
  },
  {
   "cell_type": "markdown",
   "metadata": {},
   "source": [
    "### in this plot volume refers to marketshares or no of shares as no of shares increases volume increases\n",
    "#### these plots shows that a the volume of that specific date decrease price also decrease and close on low price"
   ]
  },
  {
   "cell_type": "code",
   "execution_count": 89,
   "metadata": {},
   "outputs": [
    {
     "data": {
      "image/png": "[encoded data removed]",
      "text/plain": [
       "<Figure size 200x500 with 2 Axes>"
      ]
     },
     "metadata": {},
     "output_type": "display_data"
    }
   ],
   "source": [
    "import matplotlib.pyplot as plt\n",
    "import numpy as np\n",
    "\n",
    "# Assuming you have the \"Open\" and \"Close\" values\n",
    "open_price = 190.20\n",
    "close_price = 193.40\n",
    "\n",
    "# Specify the target volume\n",
    "target_volume = 53406360\n",
    "\n",
    "# Define the values for x-axis labels\n",
    "x_labels = ['O=190.2', 'C=193.4']\n",
    "\n",
    "# Calculate the values for y-axis (volume and price)\n",
    "volume_values = [target_volume ]\n",
    "price_values = [open_price, close_price]\n",
    "\n",
    "# Plotting the data\n",
    "fig, ax1 = plt.subplots(figsize=(2,5))\n",
    "\n",
    "# Bar positions\n",
    "bar_positions = np.arange(len(x_labels))\n",
    "\n",
    "# Bar heights for volume\n",
    "bar_heights_volume = volume_values\n",
    "\n",
    "# Bar colors for volume\n",
    "bar_colors_volume = []\n",
    "\n",
    "# Bar width for volume\n",
    "bar_width = 0.9\n",
    "\n",
    "# Creating the bar plot for volume\n",
    "ax1.bar(bar_positions, bar_heights_volume, width=bar_width, tick_label=x_labels, color=bar_colors_volume)\n",
    "\n",
    "# Setting the y-axis label for volume\n",
    "ax1.set_ylabel('Volume=53406360')\n",
    "\n",
    "# Twinning the y-axis for price\n",
    "ax2 = ax1.twinx()\n",
    "\n",
    "# Bar heights for price\n",
    "bar_heights_price = price_values\n",
    "\n",
    "# Bar colors for price\n",
    "bar_colors_price = ['blue']\n",
    "\n",
    "# Creating the bar plot for price\n",
    "ax2.bar(bar_positions, bar_heights_price, width=bar_width, tick_label=x_labels, color=bar_colors_price)\n",
    "\n",
    "# Setting the y-axis label for price\n",
    "ax2.set_ylabel('Price')\n",
    "\n",
    "# Setting the title of the plot\n",
    "ax1.set_title(f'Volume and Price for Open and Close')\n",
    "\n",
    "# Displaying the plot\n",
    "plt.show()"
   ]
  },
  {
   "cell_type": "markdown",
   "metadata": {},
   "source": [
    "### in this plot volume refers to marketshares or no of shares as no of shares increases volume increases\n",
    "#### these plots shows that a the volume of that specific date increase price also increase and close on high rate"
   ]
  },
  {
   "cell_type": "markdown",
   "metadata": {},
   "source": [
    "# 3) Conclusion\n",
    "#### price of apple is totally dependant on volume as the volume of the specific date increase price also increase but if the volume of that day decrease price also decrease"
   ]
  }
 ],
 "metadata": {
  "kernelspec": {
   "display_name": "python_eda",
   "language": "python",
   "name": "python3"
  },
  "language_info": {
   "codemirror_mode": {
    "name": "ipython",
    "version": 3
   },
   "file_extension": ".py",
   "mimetype": "text/x-python",
   "name": "python",
   "nbconvert_exporter": "python",
   "pygments_lexer": "ipython3",
   "version": "3.12.0"
  }
 },
 "nbformat": 4,
 "nbformat_minor": 2
}
